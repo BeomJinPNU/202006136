{
  "nbformat": 4,
  "nbformat_minor": 0,
  "metadata": {
    "colab": {
      "provenance": [],
      "authorship_tag": "ABX9TyO3lTRdkHlCyQxRwAEoW1tH",
      "include_colab_link": true
    },
    "kernelspec": {
      "name": "python3",
      "display_name": "Python 3"
    },
    "language_info": {
      "name": "python"
    }
  },
  "cells": [
    {
      "cell_type": "markdown",
      "metadata": {
        "id": "view-in-github",
        "colab_type": "text"
      },
      "source": [
        "<a href=\"https://colab.research.google.com/github/BeomJinPNU/202006136/blob/main/250328.ipynb\" target=\"_parent\"><img src=\"https://colab.research.google.com/assets/colab-badge.svg\" alt=\"Open In Colab\"/></a>"
      ]
    },
    {
      "cell_type": "code",
      "execution_count": 2,
      "metadata": {
        "id": "uomLVcx0QGh9",
        "colab": {
          "base_uri": "https://localhost:8080/"
        },
        "outputId": "c9928f2e-e191-454b-c8d7-06faa9879cee"
      },
      "outputs": [
        {
          "output_type": "stream",
          "name": "stdout",
          "text": [
            "첫 번째 정수를 입력하세요: 4\n",
            "두 번째 정수를 입력하세요: 3\n",
            "4은(는) 3보다 큽니다.\n"
          ]
        }
      ],
      "source": [
        "num1_str= int(input(\"첫 번째 정수를 입력하세요: \"))\n",
        "num2_str= int(input(\"두 번째 정수를 입력하세요: \"))\n",
        "if num1_str > num2_str:\n",
        "  print(f\"{num1_str}은(는) {num2_str}보다 큽니다.\")\n",
        "elif num1_str < num2_str:\n",
        "  print(f\"{num1_str}은(는) {num2_str}보다 작습니다.\")\n",
        "else:\n",
        "  print(f\"{num1_str}은(는) {num2_str}와 같습니다.\")"
      ]
    },
    {
      "cell_type": "code",
      "source": [
        "# 문제: 세 수 중 가장 큰 수 찾기\n",
        "try:\n",
        "  num1_str = input(\"첫 번째 정수를 입력하세요: \")\n",
        "  num1 = int(num1_str)\n",
        "  print(f\"첫 번째 수: {num1}\")\n",
        "  num2_str = input(\"두 번째 정수를 입력하세요: \")\n",
        "  num2 = int(num2_str)\n",
        "  print(f\"두 번째 수: {num2}\")\n",
        "  num3_str = input(\"세 번째 정수를 입력하세요: \")\n",
        "  num3 = int(num3_str)\n",
        "  print(f\"세 번째 수: {num3}\")\n",
        "  max_num = num1 # 처음에는 num1이 가장 크다고 가정\n",
        "  if num2 > max_num:\n",
        "     print(f\"두 번째 수 {num2}가 현재 최대값 {max_num}보다 큽니다. 최대값을 업데이트합니다.\")\n",
        "     max_num = num2\n",
        "  else:\n",
        "     print(f\"두 번째 수 {num2}는 현재 최대값 {max_num}보다 크지 않습니다.\")\n",
        "  if num3 > max_num:\n",
        "     print(f\"세 번째 수 {num3}가 현재 최대값 {max_num}보다 큽니다. 최대값을 업데이트합니다.\")\n",
        "     max_num = num3\n",
        "  else:\n",
        "     print(f\"세 번째 수 {num3}는 현재 최대값 {max_num}보다 크지 않습니다.\")\n",
        "  print(f\"\\n입력하신 세 수 {num1}, {num2}, {num3} 중에서 가장 큰 수는 {max_num}입니다.\")\n",
        "\n",
        "except ValueError:\n",
        "     print(\"유효한 정수를 입력해주세요.\")"
      ],
      "metadata": {
        "colab": {
          "base_uri": "https://localhost:8080/"
        },
        "id": "5jKjTGUMYjCN",
        "outputId": "bdba2c54-f3d9-492b-c3c8-aa60400304ea"
      },
      "execution_count": 4,
      "outputs": [
        {
          "output_type": "stream",
          "name": "stdout",
          "text": [
            "첫 번째 정수를 입력하세요: 1\n",
            "첫 번째 수: 1\n",
            "두 번째 정수를 입력하세요: 2\n",
            "두 번째 수: 2\n",
            "세 번째 정수를 입력하세요: 3\n",
            "세 번째 수: 3\n",
            "두 번째 수 2가 현재 최대값 1보다 큽니다. 최대값을 업데이트합니다.\n",
            "세 번째 수 3가 현재 최대값 2보다 큽니다. 최대값을 업데이트합니다.\n",
            "\n",
            "입력하신 세 수 1, 2, 3 중에서 가장 큰 수는 3입니다.\n"
          ]
        }
      ]
    },
    {
      "cell_type": "code",
      "source": [
        "score = int(input(\"점수를 입력하세요\"))\n",
        "if score > 100 or score < 0:\n",
        "  print(\"잘못된 점수입니다\")\n",
        "elif score >= 90:\n",
        "  print(\"'A'학점입니다\")\n",
        "elif score >= 80:\n",
        "  print(\"'B'학점입니다\")\n",
        "elif score >= 70:\n",
        "  print(\"'C'학점입니다\")\n",
        "elif score >= 60:\n",
        "  print(\"'D'학점입니다\")\n",
        "else:\n",
        "  print(\"'F'학점입니다\")"
      ],
      "metadata": {
        "colab": {
          "base_uri": "https://localhost:8080/"
        },
        "id": "lQh_hGQjctOt",
        "outputId": "1ca165b0-47c0-4737-900c-b772705ffdf4"
      },
      "execution_count": 13,
      "outputs": [
        {
          "output_type": "stream",
          "name": "stdout",
          "text": [
            "점수를 입력하세요62\n",
            "'D'학점입니다\n"
          ]
        }
      ]
    },
    {
      "cell_type": "code",
      "source": [
        "# 문제 5: 윤년 판별하기\n",
        "year_str = input(\"연도를 입력하세요: \")\n",
        "try:\n",
        "  year = int(year_str)\n",
        "  if (year % 4 == 0 and year % 100 != 0) or (year % 400 == 0):\n",
        "    print(f\"{year}년은 윤년입니다.\")\n",
        "  else:\n",
        "    print(f\"{year}년은 윤년이 아닙니다.\")\n",
        "except ValueError:\n",
        "  print(\"유효한 정수를 입력하세요.\")"
      ],
      "metadata": {
        "colab": {
          "base_uri": "https://localhost:8080/"
        },
        "id": "pFuYh8WRf__F",
        "outputId": "38bb3549-e96b-49bb-d210-343451478dcd"
      },
      "execution_count": 19,
      "outputs": [
        {
          "output_type": "stream",
          "name": "stdout",
          "text": [
            "연도를 입력하세요: 2100\n",
            "2100년은 윤년이 아닙니다.\n"
          ]
        }
      ]
    },
    {
      "cell_type": "code",
      "source": [
        "num = [0,1,2,3,4,5,6]\n",
        "for i in num[1:6]:\n",
        " print(\"반복!\",i)"
      ],
      "metadata": {
        "colab": {
          "base_uri": "https://localhost:8080/"
        },
        "id": "bcMzaTOFlKN0",
        "outputId": "17b9461a-8e42-4fb2-f4fb-b9b8fe65f4ac"
      },
      "execution_count": 30,
      "outputs": [
        {
          "output_type": "stream",
          "name": "stdout",
          "text": [
            "반복! 1\n",
            "반복! 2\n",
            "반복! 3\n",
            "반복! 4\n",
            "반복! 5\n"
          ]
        }
      ]
    },
    {
      "cell_type": "code",
      "source": [
        "num_sum = int(input())\n",
        "sum = 0\n",
        "for i in range(1, num_sum+1):\n",
        "  sum += i\n",
        "print(sum)"
      ],
      "metadata": {
        "colab": {
          "base_uri": "https://localhost:8080/"
        },
        "id": "tZTGSPg8o_QT",
        "outputId": "49c06e56-e773-4c8e-beb1-8e53a23e2e7c"
      },
      "execution_count": 34,
      "outputs": [
        {
          "output_type": "stream",
          "name": "stdout",
          "text": [
            "1000\n",
            "500500\n"
          ]
        }
      ]
    },
    {
      "cell_type": "code",
      "source": [
        "count = 0\n",
        "print(\"0부터 9까지 출력:\")\n",
        "while count < 10:\n",
        " print(count)\n",
        " count += 1\n",
        "print(\"while 루프 종료\")"
      ],
      "metadata": {
        "colab": {
          "base_uri": "https://localhost:8080/"
        },
        "id": "tYIY7q4ArwH7",
        "outputId": "30990eb5-768b-473c-ff3f-6e58789cd705"
      },
      "execution_count": 35,
      "outputs": [
        {
          "output_type": "stream",
          "name": "stdout",
          "text": [
            "0부터 9까지 출력:\n",
            "0\n",
            "1\n",
            "2\n",
            "3\n",
            "4\n",
            "5\n",
            "6\n",
            "7\n",
            "8\n",
            "9\n",
            "while 루프 종료\n"
          ]
        }
      ]
    },
    {
      "cell_type": "code",
      "source": [
        "print(\"0부터 9까지 출력\")\n",
        "for i in range(10):\n",
        "  print(i)"
      ],
      "metadata": {
        "colab": {
          "base_uri": "https://localhost:8080/"
        },
        "id": "chOIK7-csRGK",
        "outputId": "66016bfe-c363-4cae-90db-7e2e104e04c6"
      },
      "execution_count": 37,
      "outputs": [
        {
          "output_type": "stream",
          "name": "stdout",
          "text": [
            "0부터 9까지 출력\n",
            "0\n",
            "1\n",
            "2\n",
            "3\n",
            "4\n",
            "5\n",
            "6\n",
            "7\n",
            "8\n",
            "9\n"
          ]
        }
      ]
    }
  ]
}