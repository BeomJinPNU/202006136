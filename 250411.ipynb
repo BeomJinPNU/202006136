{
  "nbformat": 4,
  "nbformat_minor": 0,
  "metadata": {
    "colab": {
      "provenance": [],
      "authorship_tag": "ABX9TyPUAZo+z+g83SdHMRiaTp+2",
      "include_colab_link": true
    },
    "kernelspec": {
      "name": "python3",
      "display_name": "Python 3"
    },
    "language_info": {
      "name": "python"
    }
  },
  "cells": [
    {
      "cell_type": "markdown",
      "metadata": {
        "id": "view-in-github",
        "colab_type": "text"
      },
      "source": [
        "<a href=\"https://colab.research.google.com/github/BeomJinPNU/202006136/blob/main/250411.ipynb\" target=\"_parent\"><img src=\"https://colab.research.google.com/assets/colab-badge.svg\" alt=\"Open In Colab\"/></a>"
      ]
    },
    {
      "cell_type": "code",
      "execution_count": 1,
      "metadata": {
        "id": "MwBrUAvWXwnC"
      },
      "outputs": [],
      "source": [
        "# \\n과 같이 특수한 문자를 이스케이프escape 문자라 함"
      ]
    },
    {
      "cell_type": "code",
      "source": [
        "# 가상의 번호\n",
        "a=\"323145-3111111\"\n",
        "b = input(\"-를 포함해 주민등록번호 13자리를 입력하세요\")\n",
        "if b[7] == \"3\":\n",
        "  print(\"남자\")\n",
        "else:\n",
        "  print(\"여자\")"
      ],
      "metadata": {
        "colab": {
          "base_uri": "https://localhost:8080/"
        },
        "id": "s9hjHVx9eHPm",
        "outputId": "718e783b-6580-4fc6-9842-31ac6d8c768b"
      },
      "execution_count": 4,
      "outputs": [
        {
          "output_type": "stream",
          "name": "stdout",
          "text": [
            "-를 포함해 주민등록번호 13자리를 입력하세요123123-2111111\n",
            "여자\n"
          ]
        }
      ]
    },
    {
      "cell_type": "code",
      "source": [
        "s1 = input(\"문자열: \")\n",
        "s2 = ''\n",
        "\n",
        "for i in range(len(s1)-1,-1,-1):\n",
        "  s2 = s2 + s1[i]\n",
        "\n",
        "if s1 == s2:\n",
        "  print('회문')\n",
        "else:\n",
        "  print('회문아님')"
      ],
      "metadata": {
        "colab": {
          "base_uri": "https://localhost:8080/"
        },
        "id": "voKbZzfdg0QG",
        "outputId": "6e10fd60-d8e3-4c36-d0b6-70a1f430f29a"
      },
      "execution_count": 7,
      "outputs": [
        {
          "output_type": "stream",
          "name": "stdout",
          "text": [
            "문자열: 123\n",
            "회문아님\n"
          ]
        }
      ]
    },
    {
      "cell_type": "code",
      "source": [
        "lower_list = []\n",
        "\n",
        "while True:\n",
        "  s = input('영어 단어 또는 exit: ')\n",
        "  if s == 'exit':\n",
        "    break\n",
        "  lower_list.append(s.lower())\n",
        "  for a in lower_list:\n",
        "    print(a)"
      ],
      "metadata": {
        "colab": {
          "base_uri": "https://localhost:8080/"
        },
        "id": "oLPJ8nTTlc_E",
        "outputId": "4f8a8624-67e0-4c10-e10b-57e158098372"
      },
      "execution_count": 10,
      "outputs": [
        {
          "name": "stdout",
          "output_type": "stream",
          "text": [
            "영어 단어 또는 exit: exit\n"
          ]
        }
      ]
    },
    {
      "cell_type": "code",
      "source": [
        "s = 'Hi! Python is Python.'\n",
        "print(s.rfind('Python'))"
      ],
      "metadata": {
        "colab": {
          "base_uri": "https://localhost:8080/"
        },
        "id": "0H9d7zBnm9d1",
        "outputId": "0ac40df1-d258-4ccf-8832-9f280a2765aa"
      },
      "execution_count": 15,
      "outputs": [
        {
          "output_type": "stream",
          "name": "stdout",
          "text": [
            "14\n"
          ]
        }
      ]
    },
    {
      "cell_type": "code",
      "source": [
        "a = '부산시 금정구'\n",
        "시 = []\n",
        "구 = []\n",
        "b = a.split(' ')\n",
        "\n",
        "시.append(b[0])  # Append to 시 list\n",
        "구.append(b[1])  # Append to 구 list\n",
        "\n",
        "print(시)  # Print the first element of 시 list (부산시)\n",
        "print(구)  # Print the first element of 구 list (금정구)"
      ],
      "metadata": {
        "colab": {
          "base_uri": "https://localhost:8080/"
        },
        "id": "OYtIVluiooLD",
        "outputId": "b56d41fc-2c20-4c04-9dd3-a8ee1dbe956d"
      },
      "execution_count": 22,
      "outputs": [
        {
          "output_type": "stream",
          "name": "stdout",
          "text": [
            "['부산시']\n",
            "['금정구']\n"
          ]
        }
      ]
    },
    {
      "cell_type": "code",
      "source": [
        "a = input('입력')\n",
        "while a.isdigit() == False:\n",
        "  a= input('다시 입력하세요')\n",
        "print(a)"
      ],
      "metadata": {
        "colab": {
          "base_uri": "https://localhost:8080/"
        },
        "id": "t7FpVSlXqlyE",
        "outputId": "d684d9d3-2b3b-40bf-ac93-80bebe7e4105"
      },
      "execution_count": 29,
      "outputs": [
        {
          "output_type": "stream",
          "name": "stdout",
          "text": [
            "입력123\n",
            "123\n"
          ]
        }
      ]
    },
    {
      "cell_type": "code",
      "source": [
        "문장 = \"나는 파이썬을 공부한다 파이썬은 재미있다 나는 코딩을 좋아한다\"\n",
        "단어들 = 문장.split()\n",
        "빈도수 = {}\n",
        "\n",
        "for 단어 in 단어들:\n",
        "  if 단어 in 빈도수:\n",
        "    빈도수[단어] += 1\n",
        "  else:\n",
        "    빈도수[단어] = 1\n",
        "\n",
        "print(빈도수)"
      ],
      "metadata": {
        "colab": {
          "base_uri": "https://localhost:8080/"
        },
        "id": "IaZ7iIHOwWvK",
        "outputId": "67e91fd6-2c92-468b-cc22-79794d15e263"
      },
      "execution_count": 31,
      "outputs": [
        {
          "output_type": "stream",
          "name": "stdout",
          "text": [
            "{'나는': 2, '파이썬을': 1, '공부한다': 1, '파이썬은': 1, '재미있다': 1, '코딩을': 1, '좋아한다': 1}\n"
          ]
        }
      ]
    }
  ]
}