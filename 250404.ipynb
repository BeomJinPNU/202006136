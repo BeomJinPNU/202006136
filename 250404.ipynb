{
  "nbformat": 4,
  "nbformat_minor": 0,
  "metadata": {
    "colab": {
      "provenance": [],
      "authorship_tag": "ABX9TyNAbbk5QpFPnUUUCQ401Uf8",
      "include_colab_link": true
    },
    "kernelspec": {
      "name": "python3",
      "display_name": "Python 3"
    },
    "language_info": {
      "name": "python"
    }
  },
  "cells": [
    {
      "cell_type": "markdown",
      "metadata": {
        "id": "view-in-github",
        "colab_type": "text"
      },
      "source": [
        "<a href=\"https://colab.research.google.com/github/BeomJinPNU/202006136/blob/main/250404.ipynb\" target=\"_parent\"><img src=\"https://colab.research.google.com/assets/colab-badge.svg\" alt=\"Open In Colab\"/></a>"
      ]
    },
    {
      "cell_type": "code",
      "execution_count": 10,
      "metadata": {
        "colab": {
          "base_uri": "https://localhost:8080/"
        },
        "id": "GByVfn7JXQLI",
        "outputId": "947d7e85-a4cb-4325-e1f5-84a19585b06b"
      },
      "outputs": [
        {
          "output_type": "stream",
          "name": "stdout",
          "text": [
            "온도 종류(섭씨 또는 화씨):화씨\n",
            "화씨 온도: 96\n",
            "섭씨 온도 35.56\n"
          ]
        }
      ],
      "source": [
        "#온도 변환기\n",
        "kind = input('온도 종류(섭씨 또는 화씨):')\n",
        "temp = int(input(kind+ ' 온도: '))\n",
        "\n",
        "if kind == '섭씨':\n",
        "  print(f'화씨 온도 {temp*9/5+32:0.2f}')\n",
        "else:\n",
        "  print(f'섭씨 온도 {(temp-32)*5/9:.2f}')"
      ]
    },
    {
      "cell_type": "code",
      "source": [
        "import random\n",
        "answer = random.randint(1,100)\n",
        "time = 0\n",
        "\n",
        "while True:\n",
        "  user = int(input('1부터 100까지 입력하여 맞추세요'))\n",
        "  time += 1\n",
        "  if user == answer:\n",
        "    break\n",
        "  elif user < answer:\n",
        "    print(f'{user}보다 큽니다.')\n",
        "  else:\n",
        "    print(f'{user}보다 작습니다.')\n",
        "print(f'정답입니다. {time}번만에 맞추셨습니다.')"
      ],
      "metadata": {
        "colab": {
          "base_uri": "https://localhost:8080/"
        },
        "id": "gk0v-y8neVSt",
        "outputId": "a02e26b5-8dfa-4053-c903-59e9cb4235b7"
      },
      "execution_count": 11,
      "outputs": [
        {
          "output_type": "stream",
          "name": "stdout",
          "text": [
            "1부터 100까지 입력하여 맞추세요4\n",
            "4보다 큽니다.\n",
            "1부터 100까지 입력하여 맞추세요15\n",
            "15보다 큽니다.\n",
            "1부터 100까지 입력하여 맞추세요20\n",
            "20보다 작습니다.\n",
            "1부터 100까지 입력하여 맞추세요17\n",
            "정답입니다. 4번만에 맞추셨습니다.\n"
          ]
        }
      ]
    },
    {
      "cell_type": "code",
      "source": [
        "숫자 = [1,2,3,4,5,6]\n",
        "print(숫자[2])"
      ],
      "metadata": {
        "colab": {
          "base_uri": "https://localhost:8080/"
        },
        "id": "1hhL-jh4kljk",
        "outputId": "a2f75493-9373-4550-aea9-ac4575f74cb9"
      },
      "execution_count": 12,
      "outputs": [
        {
          "output_type": "stream",
          "name": "stdout",
          "text": [
            "3\n"
          ]
        }
      ]
    },
    {
      "cell_type": "code",
      "source": [
        "import random\n",
        "my_list =[]\n",
        "\n",
        "for i in range(1,7):\n",
        "  num=random.randint(1,45)\n",
        "  my_list.append(num)\n",
        "print(my_list)"
      ],
      "metadata": {
        "colab": {
          "base_uri": "https://localhost:8080/"
        },
        "id": "w5GPPI3Elh88",
        "outputId": "7370dd7d-b5fe-4fc2-ef0a-5ef9d17991f2"
      },
      "execution_count": 13,
      "outputs": [
        {
          "output_type": "stream",
          "name": "stdout",
          "text": [
            "[44, 6, 23, 10, 44, 14]\n"
          ]
        }
      ]
    },
    {
      "cell_type": "code",
      "source": [
        "# method / function 메소드와 함수 구별\n",
        "# 메소드 함수 모두 코드 블록임 => 객체와의 관계에서 차이\n",
        "# function는 print(), len(), sum()\n",
        "# method는 문자열 객체의 upper(), append() 처럼 .을 붙이고 뒤에 불러옴"
      ],
      "metadata": {
        "id": "pz66nA_bsX3T"
      },
      "execution_count": 15,
      "outputs": []
    },
    {
      "cell_type": "code",
      "source": [
        "# 학생 성적 평균 계산하기\n",
        "성적 = [84, 23, 51, 12, 55]\n",
        "평균 = sum(성적) / len(성적)\n",
        "print(평균)"
      ],
      "metadata": {
        "colab": {
          "base_uri": "https://localhost:8080/"
        },
        "id": "5IzXNsD7t2bz",
        "outputId": "f0d32849-681c-41c9-8e39-8dd1fba376e5"
      },
      "execution_count": 21,
      "outputs": [
        {
          "output_type": "stream",
          "name": "stdout",
          "text": [
            "45.0\n"
          ]
        }
      ]
    },
    {
      "cell_type": "code",
      "source": [
        "#제어문으로 하기\n",
        "합계 = 0\n",
        "성적 = [84, 23, 51, 12, 55]\n",
        "for i in range(len(성적)):\n",
        "  합계 += 성적[i]\n",
        "print(f'{합계/len(성적)}')\n",
        "\n",
        "#정답\n",
        "성적 = [84, 23, 51, 12, 55]\n",
        "총합 = 0\n",
        "평균 = 0\n",
        "항목수 = 0\n",
        "for 항목 in 성적:\n",
        "  총합 += 항목\n",
        "  항목수 += 1\n",
        "평균 = 총합 / 항목수\n",
        "print(평균)"
      ],
      "metadata": {
        "colab": {
          "base_uri": "https://localhost:8080/"
        },
        "id": "aKUk12-avcPS",
        "outputId": "3b0b78c1-3a63-4f56-d75b-c2ed6bb99bc7"
      },
      "execution_count": 23,
      "outputs": [
        {
          "output_type": "stream",
          "name": "stdout",
          "text": [
            "45.0\n",
            "45.0\n"
          ]
        }
      ]
    },
    {
      "cell_type": "code",
      "source": [
        "#중복 제거\n",
        "숫자들 = [1,2,2,3,4,4,5,5,5]\n",
        "중복제거 = []\n",
        "for 숫자 in 숫자들:\n",
        "  if 숫자 in 중복제거:\n",
        "    continue\n",
        "  중복제거.append(숫자)\n",
        "print(중복제거)\n",
        "#중복 제거 2번째\n",
        "숫자들 = [1,2,2,3,4,4,5,5,5]\n",
        "중복제거 = set(숫자들)\n",
        "print(중복제거)"
      ],
      "metadata": {
        "colab": {
          "base_uri": "https://localhost:8080/"
        },
        "id": "3i5IsuEpwN2C",
        "outputId": "e924a335-7ce7-4f75-900c-89fa7991805b"
      },
      "execution_count": 26,
      "outputs": [
        {
          "output_type": "stream",
          "name": "stdout",
          "text": [
            "[1, 2, 3, 4, 5]\n",
            "{1, 2, 3, 4, 5}\n"
          ]
        }
      ]
    },
    {
      "cell_type": "code",
      "source": [],
      "metadata": {
        "id": "jXGKs9uoxZyz"
      },
      "execution_count": null,
      "outputs": []
    }
  ]
}